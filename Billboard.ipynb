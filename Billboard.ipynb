{
 "cells": [
  {
   "cell_type": "code",
   "execution_count": null,
   "metadata": {},
   "outputs": [],
   "source": [
    "def opti(dp,bud,v):\n",
    "    optimal=[]\n",
    "    n = len(dp)\n",
    "    i=n-1\n",
    "    while i>=0:\n",
    "        if i>0:\n",
    "            a=dp[i-1]\n",
    "        else:\n",
    "            a=-1\n",
    "        \n",
    "        b=v[i]\n",
    "        if bud[i]>=0:\n",
    "            b= b + dp[bud[i]]\n",
    "        \n",
    "        if(b>a):\n",
    "            optimal.append(i+1)\n",
    "            i=bud[i] \n",
    "        \n",
    "        else:\n",
    "            i-=1\n",
    "    for i in optimal:\n",
    "        print(i, end=' ')\n",
    "        \n",
    "def bill(x,v,d):\n",
    "    n = len(x)\n",
    "    dp = [0 for i in range(n)]\n",
    "    dp[0]=v[0]\n",
    "    bud = [-1 for i in range(n)]\n",
    "    optimal=[]\n",
    "    i = n-1\n",
    "    j=n-1\n",
    "    \n",
    "    while i>=0 and j>=0:\n",
    "        if(x[j]-x[i]>=d):\n",
    "            bud[j] = i\n",
    "            j-=1\n",
    "            i=j\n",
    "        \n",
    "        else:\n",
    "            i-=1\n",
    "    \n",
    "    \n",
    "    for i in range(1,n):\n",
    "        a=dp[i-1]\n",
    "        b=v[i]\n",
    "        \n",
    "        if bud[i]>=0:\n",
    "            b= b + dp[bud[i]]    \n",
    "        dp[i] = max(a, b)\n",
    "        \n",
    "    print(dp[n-1])\n",
    "    \n",
    "    opti(dp,bud,v)\n",
    "\n"
   ]
  },
  {
   "cell_type": "code",
   "execution_count": null,
   "metadata": {},
   "outputs": [],
   "source": [
    "bill([10],[1000],5)"
   ]
  },
  {
   "cell_type": "code",
   "execution_count": null,
   "metadata": {},
   "outputs": [],
   "source": []
  }
 ],
 "metadata": {
  "kernelspec": {
   "display_name": "Python 3",
   "language": "python",
   "name": "python3"
  },
  "language_info": {
   "codemirror_mode": {
    "name": "ipython",
    "version": 3
   },
   "file_extension": ".py",
   "mimetype": "text/x-python",
   "name": "python",
   "nbconvert_exporter": "python",
   "pygments_lexer": "ipython3",
   "version": "3.8.5"
  }
 },
 "nbformat": 4,
 "nbformat_minor": 4
}
